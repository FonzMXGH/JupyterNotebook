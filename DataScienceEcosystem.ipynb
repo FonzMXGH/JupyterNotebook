{
 "cells": [
  {
   "cell_type": "markdown",
   "id": "289c319c-b1ce-488e-bded-0e6f9021ea21",
   "metadata": {
    "tags": []
   },
   "source": [
    "# Data Science Tools and Ecosystem"
   ]
  },
  {
   "cell_type": "markdown",
   "id": "4b6def69-866f-4eee-a3a9-f2a02a0b90c7",
   "metadata": {},
   "source": [
    "# In this notebook, Data Science Tools and Ecosystem are summarized"
   ]
  },
  {
   "cell_type": "markdown",
   "id": "b7f2cc6c-5aa5-4662-b370-3c7cb4868e96",
   "metadata": {},
   "source": [
    "**Objectives**\n",
    "* Open Source and Commercial Data Science Tools\n",
    "* Packages, APIs and Models\n",
    "* Libraries\n",
    "* Languages\n",
    "* Jupyter Notebooks\n",
    "* GitHub"
   ]
  },
  {
   "cell_type": "markdown",
   "id": "cb06cc54-99f7-4ec4-b23d-38cd04feab36",
   "metadata": {},
   "source": [
    "# Some of the popular languages that Data Scientists use are:\n",
    "1. Python\n",
    "2. R\n",
    "3. Julia\n",
    "4. Scala\n",
    "5. SQL"
   ]
  },
  {
   "cell_type": "markdown",
   "id": "4a63c982-9d3e-4df5-91cb-da2a90f10bad",
   "metadata": {},
   "source": [
    "# Some of the commonly used libraries used by Data Scientists include:\n",
    "1. Apache AirFlow\n",
    "2. Apache Kafka\n",
    "3. Apache SparkSQL\n",
    "4. Pixie Dust\n",
    "5. Hue\n",
    "6. Kibana"
   ]
  },
  {
   "cell_type": "markdown",
   "id": "50d2431b-7485-4e52-b712-d6e9448dbd83",
   "metadata": {},
   "source": [
    "# Data Science Tools\n",
    "|Tool|\n",
    "|----|\n",
    "|GitHub|\n",
    "|Hadoop|\n",
    "|RStudio|\n",
    "|Cassandra|\n",
    "|Jupyter|\n",
    "|Spyder|"
   ]
  },
  {
   "cell_type": "markdown",
   "id": "5d5a25e0-965d-4c54-b867-4931a1eac114",
   "metadata": {},
   "source": [
    "### Below are a few examples of evaluating arithmetic expressions in Python"
   ]
  },
  {
   "cell_type": "code",
   "execution_count": 2,
   "id": "65334a02-a561-4515-8af2-d790274279f6",
   "metadata": {
    "tags": []
   },
   "outputs": [
    {
     "data": {
      "text/plain": [
       "17"
      ]
     },
     "execution_count": 2,
     "metadata": {},
     "output_type": "execute_result"
    }
   ],
   "source": [
    "# This is a simple arithmetic expression to multiply then add integers\n",
    "(3*4)+5"
   ]
  },
  {
   "cell_type": "code",
   "execution_count": 3,
   "id": "eab23d3a-fae3-44ef-80df-38c9bd427845",
   "metadata": {
    "tags": []
   },
   "outputs": [
    {
     "data": {
      "text/plain": [
       "3.3333333333333335"
      ]
     },
     "execution_count": 3,
     "metadata": {},
     "output_type": "execute_result"
    }
   ],
   "source": [
    "# This will convert 200 minutes to hours by dividing by 60\n",
    "200/60"
   ]
  },
  {
   "cell_type": "markdown",
   "id": "7d728b89-ba18-4d07-8ece-d0bfd43f50ac",
   "metadata": {},
   "source": [
    "## Author\n",
    "Alfonso Sesma"
   ]
  },
  {
   "cell_type": "code",
   "execution_count": null,
   "id": "25836d85-2b26-49d5-9369-aac861f22d25",
   "metadata": {},
   "outputs": [],
   "source": []
  }
 ],
 "metadata": {
  "kernelspec": {
   "display_name": "Python",
   "language": "python",
   "name": "conda-env-python-py"
  },
  "language_info": {
   "codemirror_mode": {
    "name": "ipython",
    "version": 3
   },
   "file_extension": ".py",
   "mimetype": "text/x-python",
   "name": "python",
   "nbconvert_exporter": "python",
   "pygments_lexer": "ipython3",
   "version": "3.7.12"
  }
 },
 "nbformat": 4,
 "nbformat_minor": 5
}
